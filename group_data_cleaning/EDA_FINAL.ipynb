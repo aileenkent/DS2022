{
  "cells": [
    {
      "cell_type": "markdown",
      "metadata": {
        "id": "P9G05aTy95F8"
      },
      "source": [
        "# Exploratory Data Analysis (Group) on ACLR dataset"
      ]
    },
    {
      "cell_type": "markdown",
      "source": [
        "1. Our audience/stakeholder would be the doctor of a patient who has undergone ACLR surgery.\n",
        "2. Our Problem Statment: Physicians need an efficient way to compare their patients progress with similar patients. Can we visualize patient data in a way that immediately provides a comparison of the individual patient to their peer group.\n",
        "3. Important Variables (this is not an all emcompassing list):\n",
        "\n",
        "These variables are important for finding the peer group:\n",
        "*   vist_sex\n",
        "*   age_group_dashboard_use\n",
        "* graft_dashboard2\n",
        "\n",
        "\n",
        "These variables are helpful for tracking the progress:\n",
        "\n",
        "\n",
        "*   redcap_event_name\n",
        "*   tss_dashboard\n",
        "* koos_pain\n",
        "* acl sh\n",
        "* acl_th\n",
        "* acl_ch\n",
        "* acl_ext_mvic_90\n",
        "* alc_ext_mvic_60\n",
        "* acl_flex_mvic_60\n",
        "* acl_ext_isok_60\n",
        "* acl_flex_isok_60\n",
        "\n",
        "There are potentially other variables which could be helpful for tracking patient progress, however we have not selected further important variables.\n",
        "\n",
        "\n"
      ],
      "metadata": {
        "id": "X4S_5Zuu-APD"
      }
    },
    {
      "cell_type": "markdown",
      "metadata": {
        "id": "7RyHzyaA95F-"
      },
      "source": [
        "### Plan outlook:\n",
        "Our current plan is to create a dynamic dashboard, in which the user (let it be a physician, surgeon, or a doctor) could select a group of data based on demographic variables, and then enter their current patient's stats/data to compare their patient's recovery status with the average/median recovery progress of **all the patients ** in that particular selected demographic group.\n",
        "\n",
        "### Example Scenario:\n",
        "If a doctor conducted a self-reported evaluation survey with their patient (i.e. KOOS), or any other form of strength evaluation based off a certain testing methodology. The doctor could enter that patient's survey results (or evaluation score) into the database, select the relevant demographic group that pertains to that particular patient, the dashboard would then compare the patient's score with the average/median score of all the patients in that demographic group. The dashboard would also provide a visual representation of the data, such as a bar graph or line chart, to help the doctor understand how their patient is doing compared to others in the same demographic group. This could help the doctor make more informed decisions about the patient's treatment plan and recovery process."
      ]
    },
    {
      "cell_type": "code",
      "execution_count": null,
      "metadata": {
        "id": "8rBC4IArFE6c"
      },
      "outputs": [],
      "source": [
        "!pip install -q pandas numpy matplotlib seaborn\n",
        "import pandas as pd\n",
        "import numpy as np\n",
        "import matplotlib.pyplot as plt\n",
        "import seaborn as sns"
      ]
    },
    {
      "cell_type": "code",
      "execution_count": null,
      "metadata": {
        "id": "wX9LebCkFOs2"
      },
      "outputs": [],
      "source": [
        "df= pd.read_csv('aclr.csv')\n",
        "df.head()"
      ]
    },
    {
      "cell_type": "markdown",
      "metadata": {
        "id": "LWO06K4YFmNq"
      },
      "source": [
        "## DATA CLEANING"
      ]
    },
    {
      "cell_type": "markdown",
      "metadata": {
        "id": "38XI9sg-95F_"
      },
      "source": [
        "Removing unnecessary columns (columns with zero data)"
      ]
    },
    {
      "cell_type": "code",
      "execution_count": null,
      "metadata": {
        "id": "bNwYJgbFFzBP"
      },
      "outputs": [],
      "source": [
        "df.columns[df.isnull().all()]# these are columns that have no data ( we need to drop)"
      ]
    },
    {
      "cell_type": "code",
      "execution_count": null,
      "metadata": {
        "id": "ZqEtKpcDGZYI"
      },
      "outputs": [],
      "source": [
        "df.drop(columns=['redcap_repeat_instrument', 'tss_tegner'], inplace=True)"
      ]
    },
    {
      "cell_type": "code",
      "execution_count": null,
      "metadata": {
        "id": "iEo2AmpqFw1c"
      },
      "outputs": [],
      "source": [
        "df.info()"
      ]
    },
    {
      "cell_type": "markdown",
      "metadata": {
        "id": "81_hNGK495GA"
      },
      "source": [
        "Looking for missing values in the rest of the columns"
      ]
    },
    {
      "cell_type": "code",
      "execution_count": null,
      "metadata": {
        "id": "LbKdXcRTFl7F"
      },
      "outputs": [],
      "source": [
        "df.isnull().sum() # looking for missing data"
      ]
    },
    {
      "cell_type": "markdown",
      "metadata": {
        "id": "qQrga64n95GB"
      },
      "source": [
        "Finding the top few columns that have the least percentage of missing values, this shows that there exists a huge volume of missing values in the dataset and that imputation is very necessary in order to make any meaningful insight out of this dataset"
      ]
    },
    {
      "cell_type": "code",
      "execution_count": null,
      "metadata": {
        "id": "VwcsBCOaGrN_"
      },
      "outputs": [],
      "source": [
        "missing_percent = df.isnull().sum() / len(df) * 100\n",
        "print(missing_percent.nsmallest(10))"
      ]
    },
    {
      "cell_type": "markdown",
      "metadata": {
        "id": "OnWpIibkOL7h"
      },
      "source": [
        "# Seeing values to make the nan as Not reported"
      ]
    },
    {
      "cell_type": "markdown",
      "metadata": {
        "id": "7lMaOoVU95GB"
      },
      "source": [
        "Before carrying out imputation for the missing values, replace all 'NaN' entries in the various demographic variables as Not reported for consistency"
      ]
    },
    {
      "cell_type": "code",
      "execution_count": null,
      "metadata": {
        "id": "jg8AVBlYIGIB"
      },
      "outputs": [],
      "source": [
        "print(df[\"sex_dashboard\"].unique())\n",
        "print(df['visit_sex'].unique())\n",
        "print(df['age_group_dashboard_use'].unique())\n",
        "print(df['graft_dashboard2'].unique())\n",
        "print(df['visit_graft'].unique())"
      ]
    },
    {
      "cell_type": "code",
      "execution_count": null,
      "metadata": {
        "id": "-On7pGoWLFs7"
      },
      "outputs": [],
      "source": [
        "print(df['redcap_event_name'].unique())"
      ]
    },
    {
      "cell_type": "code",
      "execution_count": null,
      "metadata": {
        "id": "lsNM5NnyM3WW"
      },
      "outputs": [],
      "source": [
        "print(df['strength_testing_complete'].unique())"
      ]
    },
    {
      "cell_type": "code",
      "execution_count": null,
      "metadata": {
        "id": "gUpblngkOzca"
      },
      "outputs": [],
      "source": [
        "print(df['med_meniscus'].unique())\n",
        "print(df['lat_meniscus'].unique())"
      ]
    },
    {
      "cell_type": "markdown",
      "metadata": {
        "id": "eq8f1UzvOWb2"
      },
      "source": [
        "1. Gender, Age Groups,  ( make the nan as Not reported) ( input)"
      ]
    },
    {
      "cell_type": "code",
      "execution_count": null,
      "metadata": {
        "id": "z75LKhVsPySk"
      },
      "outputs": [],
      "source": [
        "df['age_group_dashboard_use'] = df['age_group_dashboard_use'].fillna('Not Reported')\n",
        "df['sex_dashboard'] = df['sex_dashboard'].fillna('Not Reported')\n",
        "df['visit_sex'] = df['visit_sex'].fillna('Not Reported')"
      ]
    },
    {
      "cell_type": "markdown",
      "metadata": {
        "id": "5ux7AFQR95GC"
      },
      "source": [
        "Visualizing and observing the presence of missing values across all columns and taking a look at what columns are useful, and what columns are meaningless"
      ]
    },
    {
      "cell_type": "code",
      "execution_count": null,
      "metadata": {
        "id": "RGErH6G8Q1Gn"
      },
      "outputs": [],
      "source": [
        "# I've also included a visual aid of how many missing values we have for each variable\n",
        "# Bar plot of missing values for each column\n",
        "missing_vals = df.isnull().sum()\n",
        "missing_vals = missing_vals[missing_vals > 0] # making sure to inlcude only the missing values ( no variables with complete)\n",
        "missing_vals.sort_values(inplace=True)\n",
        "\n",
        "plt.figure(figsize=(14, 10))\n",
        "missing_vals.plot(kind='barh', color='lightcoral') # making this horizontal bargraph to enhance readability\n",
        "plt.title('Missing Values Visualized', fontsize=20)# let's make sure the title is big\n",
        "plt.xlabel('# of Missing Values ', fontsize=10)\n",
        "plt.ylabel('Columns', fontsize=10)\n",
        "plt.xticks(fontsize=8)\n",
        "plt.yticks(fontsize=8)\n",
        "plt.gca().invert_yaxis() # we need this code to ensure that we have the missing values inverted\n",
        "plt.show()"
      ]
    },
    {
      "cell_type": "code",
      "execution_count": null,
      "metadata": {
        "id": "l3eKr3MGRKy4"
      },
      "outputs": [],
      "source": [
        "# This leads us to see the distribution of the data and see outliers present ( use boxplot since they do a good job detecting/visualizing outliers)\n",
        "plt.figure(figsize=(12, 12))\n",
        "sns.boxplot(data=df, orient=\"h\")\n",
        "plt.title(\"Outlier present\")\n",
        "plt.show()"
      ]
    },
    {
      "cell_type": "markdown",
      "metadata": {
        "id": "7FqNwaPQ95GD"
      },
      "source": [
        "Exploratory phase: to impute data more effectively, we chose to split the imputation process by categorical and numerical variables. We chose to impute the categorical variables via the frequency of a cateogory's presence in the dataset, and impute the numerical variables via the mean of the column's numerical values."
      ]
    },
    {
      "cell_type": "code",
      "execution_count": null,
      "metadata": {
        "id": "OLAI20eKRbAf"
      },
      "outputs": [],
      "source": [
        "# Let's split the categorical and numerical columns\n",
        "categorical_columns = df.select_dtypes(include=['object']).columns # this includes strings\n",
        "numerical_columns = df.select_dtypes(include=['float64', 'int64']).columns # these are numbers with meaning\n",
        "\n",
        "# Now let's impute categorical(mode) and numerical columns (median)\n",
        "df[categorical_columns] = df[categorical_columns].fillna(df[categorical_columns].mode().iloc[0])\n",
        "df[numerical_columns] = df[numerical_columns].fillna(df[numerical_columns].median())"
      ]
    },
    {
      "cell_type": "code",
      "execution_count": null,
      "metadata": {
        "id": "xqTAdm4VRlos"
      },
      "outputs": [],
      "source": [
        "df.isnull().sum()"
      ]
    },
    {
      "cell_type": "markdown",
      "metadata": {
        "id": "OEIzfyny95GD"
      },
      "source": [
        "Visualizing the distribution of graft types by age groups: are graft types a significant factor / choice among a certain age group?"
      ]
    },
    {
      "cell_type": "code",
      "execution_count": null,
      "metadata": {
        "id": "xkB7bBCtRmqN"
      },
      "outputs": [],
      "source": [
        "# distribtion of grafttype by age groups\n",
        "\n",
        "plt.figure(figsize=(12, 6))\n",
        "sns.countplot(data=df, x='graft_dashboard2', hue='age_group_dashboard_use')\n",
        "plt.title(\"Distribution by Age Group\")\n",
        "plt.show()"
      ]
    },
    {
      "cell_type": "markdown",
      "metadata": {
        "id": "adeC7IQo95GE"
      },
      "source": [
        "Visualizing the distribution of age groups by sex category: this graph tells us that that the age group of 15-17 years old showcases a little disparity while all other age groups contain a similar number of male and female patients. An initial conclusion could be made that girls are likely to be injured from the age of 15 to 17 years old."
      ]
    },
    {
      "cell_type": "code",
      "execution_count": null,
      "metadata": {
        "id": "Lz3hINwjSdSQ"
      },
      "outputs": [],
      "source": [
        "# distrubtion of grafttype by sex\n",
        "plt.figure(figsize=(12, 6))\n",
        "sns.countplot(data=df, x='age_group_dashboard_use', hue='visit_sex')\n",
        "plt.title(\"Distribution of Age by Sex\")\n",
        "plt.show()"
      ]
    },
    {
      "cell_type": "markdown",
      "metadata": {
        "id": "hqC--E-b95GE"
      },
      "source": [
        "We discovered that tss stands for 'time since surgery' a relatively useful variable for us since we are aiming to visualize the change in recovery rates or other variables over time."
      ]
    },
    {
      "cell_type": "code",
      "execution_count": null,
      "metadata": {
        "id": "KRbX_AxgTXUA"
      },
      "outputs": [],
      "source": [
        "print(df['tss_dashboard'].unique()) # time since surgery"
      ]
    },
    {
      "cell_type": "markdown",
      "metadata": {
        "id": "lgvF-AYv95GE"
      },
      "source": [
        "Visualizing how the self-reported pain evaluation score is distributed by the variable of time since surgery. If the KOOS pain score is distributed from 0 to 100, with 100 representing maximum 'pain level', we could conclude that most people felt maximum painfulness at the 8th to 12th month since surgery. This proves that that tss, combined with any other recovery metrics, could deduce valuable and interesting insights for not just us, but also our 'stakeholders' - the doctors/physicians when observing the recovery of their patients."
      ]
    },
    {
      "cell_type": "code",
      "execution_count": null,
      "metadata": {
        "id": "qdCi71uFT08H"
      },
      "outputs": [],
      "source": [
        "plt.figure(figsize=(12, 6))\n",
        "sns.histplot(data=df, x='koos_pain', hue='tss_dashboard', multiple='stack')  # or 'dodge'\n",
        "plt.title(\"Distribution of KOOS Pain Scores by Time Since Surgery\")\n",
        "plt.xlabel(\"KOOS Pain Score\")\n",
        "plt.ylabel(\"Count\")\n",
        "plt.legend(df['tss_dashboard'])\n",
        "plt.show()\n"
      ]
    },
    {
      "cell_type": "markdown",
      "metadata": {
        "id": "dIwl584W95GF"
      },
      "source": [
        "With this in mind, we've decided to visualize tss against all of the other recovery metric variables (whether it is pain, LSI, strength score, etc) to see how patients recover over time. We adopted a small multiples strategy so that all of the visualizations can be created at once"
      ]
    },
    {
      "cell_type": "code",
      "execution_count": null,
      "metadata": {
        "id": "C4AwrILbW7oj"
      },
      "outputs": [],
      "source": [
        "# visualizing the distirbution of strength testing, tss ( multiple)\n",
        "\n",
        "fig,axs = plt.subplots(3,3, figsize=(20, 15))\n",
        "\n",
        "sns.histplot(data=df, x='acl_sh', hue= 'tss_dashboard', multiple='stack', ax=axs[0,0], legend=False)\n",
        "axs[0,0].set_title(\"ACL Strength\")\n",
        "\n",
        "sns.histplot(data=df, x='acl_th', hue= 'tss_dashboard', multiple='stack', ax=axs[0,1], legend=False)\n",
        "\n",
        "sns.histplot(data=df, x='acl_ch', hue= 'tss_dashboard', multiple='stack', ax=axs[0,2], legend=False)\n",
        "\n",
        "sns.histplot(data=df, x='acl_ext_mvic_90', hue= 'tss_dashboard', multiple='stack', ax=axs[1,0], legend=False)\n",
        "\n",
        "sns.histplot(data=df, x='acl_ext_mvic_60', hue= 'tss_dashboard', multiple='stack', ax=axs[1,1], legend=False)\n",
        "\n",
        "sns.histplot(data=df, x='acl_flex_mvic_60', hue= 'tss_dashboard', multiple='stack', ax=axs[1,2], legend=False)\n",
        "\n",
        "sns.histplot(data=df, x='acl_ext_isok_60', hue= 'tss_dashboard', multiple='stack', ax=axs[2,0], legend=False)\n",
        "\n",
        "sns.histplot(data=df, x='acl_flex_isok_60', hue= 'tss_dashboard', multiple='stack', ax=axs[2,1])\n",
        "\n",
        "plt.show()"
      ]
    },
    {
      "cell_type": "markdown",
      "metadata": {
        "id": "vqDb8dTS95GF"
      },
      "source": [
        "From the small multiples above, we could see how the recovery metrics are distributed by comparing the different 'types' of recovery metrics in the same 'category'. I.e. observing how acl knee extension value differentiates in the different degrees of which the patient can extend their knee to."
      ]
    }
  ],
  "metadata": {
    "colab": {
      "private_outputs": true,
      "provenance": []
    },
    "kernelspec": {
      "display_name": "DIY-Spotify-DS2022-X8deq3hS",
      "language": "python",
      "name": "python3"
    },
    "language_info": {
      "codemirror_mode": {
        "name": "ipython",
        "version": 3
      },
      "file_extension": ".py",
      "mimetype": "text/x-python",
      "name": "python",
      "nbconvert_exporter": "python",
      "pygments_lexer": "ipython3",
      "version": "3.10.12"
    }
  },
  "nbformat": 4,
  "nbformat_minor": 0
}